{
 "cells": [
  {
   "cell_type": "code",
   "execution_count": 2,
   "metadata": {},
   "outputs": [],
   "source": [
    "import pandas as pd\n",
    "import numpy as np\n",
    "import seaborn as sns\n",
    "import matplotlib.pyplot as plt\n",
    "import plotly.express as px\n",
    "from sklearn.naive_bayes import GaussianNB"
   ]
  },
  {
   "cell_type": "code",
   "execution_count": 3,
   "metadata": {},
   "outputs": [],
   "source": [
    "base_risco_credito = pd.read_csv('risco_credito.csv')"
   ]
  },
  {
   "cell_type": "code",
   "execution_count": 4,
   "metadata": {},
   "outputs": [],
   "source": [
    "X_risco_credito = base_risco_credito.iloc[:, 0:4].values\n"
   ]
  },
  {
   "cell_type": "code",
   "execution_count": 5,
   "metadata": {},
   "outputs": [
    {
     "data": {
      "text/plain": [
       "array(['alto', 'alto', 'moderado', 'alto', 'baixo', 'baixo', 'alto',\n",
       "       'moderado', 'baixo', 'baixo', 'alto', 'moderado', 'baixo', 'alto'],\n",
       "      dtype=object)"
      ]
     },
     "execution_count": 5,
     "metadata": {},
     "output_type": "execute_result"
    }
   ],
   "source": [
    "y_risco_credito = base_risco_credito.iloc[:, 4].values\n",
    "y_risco_credito"
   ]
  },
  {
   "cell_type": "code",
   "execution_count": 6,
   "metadata": {},
   "outputs": [],
   "source": [
    "from sklearn.preprocessing import LabelEncoder\n",
    "label_enconder_historia = LabelEncoder()\n",
    "label_enconder_divida = LabelEncoder()\n",
    "label_enconder_garantia = LabelEncoder()\n",
    "label_enconder_renda = LabelEncoder()\n"
   ]
  },
  {
   "cell_type": "code",
   "execution_count": 7,
   "metadata": {},
   "outputs": [],
   "source": [
    "X_risco_credito[:, 0] = label_enconder_historia.fit_transform(X_risco_credito[:, 0])"
   ]
  },
  {
   "cell_type": "code",
   "execution_count": 8,
   "metadata": {},
   "outputs": [],
   "source": [
    "X_risco_credito[:, 1] = label_enconder_divida.fit_transform(X_risco_credito[:, 1])\n",
    "X_risco_credito[:, 2] = label_enconder_garantia.fit_transform(X_risco_credito[:, 2])\n",
    "X_risco_credito[:, 3] = label_enconder_renda.fit_transform(X_risco_credito[:, 3])"
   ]
  },
  {
   "cell_type": "code",
   "execution_count": 9,
   "metadata": {},
   "outputs": [
    {
     "data": {
      "text/plain": [
       "array([[2, 0, 1, 0],\n",
       "       [1, 0, 1, 1],\n",
       "       [1, 1, 1, 1],\n",
       "       [1, 1, 1, 2],\n",
       "       [1, 1, 1, 2],\n",
       "       [1, 1, 0, 2],\n",
       "       [2, 1, 1, 0],\n",
       "       [2, 1, 0, 2],\n",
       "       [0, 1, 1, 2],\n",
       "       [0, 0, 0, 2],\n",
       "       [0, 0, 1, 0],\n",
       "       [0, 0, 1, 1],\n",
       "       [0, 0, 1, 2],\n",
       "       [2, 0, 1, 1]], dtype=object)"
      ]
     },
     "execution_count": 9,
     "metadata": {},
     "output_type": "execute_result"
    }
   ],
   "source": [
    "X_risco_credito"
   ]
  },
  {
   "cell_type": "code",
   "execution_count": 10,
   "metadata": {},
   "outputs": [],
   "source": [
    "import pickle\n",
    "with open('risco_credito.pkl', 'wb') as f:\n",
    "    pickle.dump([X_risco_credito, y_risco_credito], f)"
   ]
  },
  {
   "cell_type": "code",
   "execution_count": 17,
   "metadata": {},
   "outputs": [
    {
     "data": {
      "text/plain": [
       "((14, 4), (14,))"
      ]
     },
     "execution_count": 17,
     "metadata": {},
     "output_type": "execute_result"
    }
   ],
   "source": [
    "X_risco_credito.shape, y_risco_credito.shape"
   ]
  },
  {
   "cell_type": "code",
   "execution_count": 11,
   "metadata": {},
   "outputs": [
    {
     "data": {
      "text/plain": [
       "GaussianNB()"
      ]
     },
     "execution_count": 11,
     "metadata": {},
     "output_type": "execute_result"
    }
   ],
   "source": [
    "naive_risco_credito = GaussianNB()\n",
    "naive_risco_credito.fit(X_risco_credito, y_risco_credito)"
   ]
  },
  {
   "cell_type": "code",
   "execution_count": 12,
   "metadata": {},
   "outputs": [],
   "source": [
    "previsao = naive_risco_credito.predict([[0, 0, 1, 2], [2, 0, 0, 0]])"
   ]
  },
  {
   "cell_type": "code",
   "execution_count": 13,
   "metadata": {},
   "outputs": [
    {
     "name": "stdout",
     "output_type": "stream",
     "text": [
      "['baixo' 'moderado']\n"
     ]
    }
   ],
   "source": [
    "print(previsao)"
   ]
  },
  {
   "cell_type": "code",
   "execution_count": 14,
   "metadata": {},
   "outputs": [
    {
     "data": {
      "text/plain": [
       "array(['alto', 'baixo', 'moderado'], dtype='<U8')"
      ]
     },
     "execution_count": 14,
     "metadata": {},
     "output_type": "execute_result"
    }
   ],
   "source": [
    "naive_risco_credito.classes_"
   ]
  }
 ],
 "metadata": {
  "interpreter": {
   "hash": "d0e6ae2e2a2beb5df265be66914950b3f0aefccaf0c4fe29d762a1d58f123323"
  },
  "kernelspec": {
   "display_name": "Python 3.9.7 64-bit ('base': conda)",
   "language": "python",
   "name": "python3"
  },
  "language_info": {
   "codemirror_mode": {
    "name": "ipython",
    "version": 3
   },
   "file_extension": ".py",
   "mimetype": "text/x-python",
   "name": "python",
   "nbconvert_exporter": "python",
   "pygments_lexer": "ipython3",
   "version": "3.9.7"
  },
  "orig_nbformat": 4
 },
 "nbformat": 4,
 "nbformat_minor": 2
}
